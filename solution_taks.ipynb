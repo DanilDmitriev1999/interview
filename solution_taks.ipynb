{
 "cells": [
  {
   "cell_type": "markdown",
   "metadata": {
    "colab_type": "text",
    "id": "mNWUXIPjm5Hw"
   },
   "source": [
    "[![Open In Colab](https://colab.research.google.com/assets/colab-badge.svg)](https://colab.research.google.com/drive/14Dygg5Seq4fmHqtPhbtPkrK1hQ3ZgfCy?usp=sharing)"
   ]
  },
  {
   "cell_type": "markdown",
   "metadata": {
    "colab_type": "text",
    "heading_collapsed": true,
    "id": "3AmY2jzfm7pJ"
   },
   "source": [
    "# Вспомогательные функции"
   ]
  },
  {
   "cell_type": "code",
   "execution_count": 159,
   "metadata": {
    "colab": {},
    "colab_type": "code",
    "hidden": true,
    "id": "2RY2BFWpm-7e"
   },
   "outputs": [],
   "source": [
    "def preprocess_text(text):\n",
    "    \"\"\"\n",
    "    Первоначальная обработка текста\n",
    "    \"\"\"\n",
    "    text = text.lower().replace(\"  \", \" \")\n",
    "    text = text.replace('\\xa0', ' ')\n",
    "    text = re.sub('((www\\.[^\\s]+)|(https?://[^\\s]+))', 'URL - Uniform Resource Locator', text)\n",
    "    text = re.sub('[^\\w\\s]+|[\\d]+', '', text)\n",
    "    text = re.sub(' +', ' ', text)\n",
    "    return text.strip()\n",
    "\n",
    "def find_error(model, x, y):\n",
    "    \"\"\"\n",
    "    Функция, которая ищет ошибки в предсказание и выводит их\n",
    "    \"\"\"\n",
    "    error = []\n",
    "    for i in range(len(x)):\n",
    "        xt = x[i]\n",
    "        predict = model.predict([xt])\n",
    "        if predict[0] != y[i]:\n",
    "            error.append(xt)\n",
    "    return error\n",
    "\n",
    "def predict_once(model, text):\n",
    "    \"\"\"\n",
    "    Функиця предсказания языка по предложению\n",
    "    \"\"\"\n",
    "    text = preprocess_text(text)\n",
    "    predict = model.predict([text])\n",
    "    return predict"
   ]
  },
  {
   "cell_type": "code",
   "execution_count": null,
   "metadata": {
    "colab": {},
    "colab_type": "code",
    "hidden": true,
    "id": "8KeEawfsnBIq"
   },
   "outputs": [],
   "source": [
    "def draw_graph(train_hist, test_hist):\n",
    "    \"\"\"\n",
    "    Вспомогательная функция для обучения, рисует график лосса\n",
    "    \"\"\"\n",
    "    plt.figure(figsize=(12, 7))\n",
    "    plt.subplot(1, 2, 1)\n",
    "    plt.plot(train_hist, label=\"train\")\n",
    "    plt.title('train loss')\n",
    "    plt.legend()\n",
    "    plt.subplot(1, 2, 2)\n",
    "    plt.plot(test_hist)\n",
    "    plt.title('val loss')\n",
    "    plt.show()\n",
    "\n",
    "def do_epoch(model, criterion, data, optimizer=None, name=None, bert=False):\n",
    "    \"\"\"\n",
    "    Функция обучения на одной эпохе. Если передан optimizer, то будет\n",
    "    просиходить обучение, если optimizer не передан, то будет валидация\n",
    "    \n",
    "    \"\"\"\n",
    "    epoch_loss = []\n",
    "    epoch_f1 = 0\n",
    "\n",
    "    \n",
    "    is_train = not optimizer is None\n",
    "    name = name or ''\n",
    "    model.train(is_train)\n",
    "    \n",
    "    batches_count = len(data)\n",
    "    \n",
    "    with torch.autograd.set_grad_enabled(is_train):\n",
    "        with tqdm(total=batches_count) as progress_bar:\n",
    "            for batch in data:\n",
    "                if bert:\n",
    "                    text = batch[\"input_ids\"].to(device)\n",
    "                    targets = batch[\"targets\"].to(device)\n",
    "                    mask = batch[\"attention_mask\"].to(device)\n",
    "                    texts = (text, mask)\n",
    "                else:\n",
    "                    texts = batch.text.to(device)\n",
    "                    targets = batch.label.to(device)\n",
    "\n",
    "                torch.cuda.empty_cache()\n",
    "                outputs = model(texts)\n",
    "\n",
    "                preds = torch.round(torch.sigmoid(outputs))\n",
    "\n",
    "                loss = criterion(outputs.float(), targets.float())\n",
    "                \n",
    "                f1 = f1_score(targets.cpu().detach().numpy(), preds.cpu().detach().numpy())\n",
    "\n",
    "\n",
    "                epoch_loss.append(loss.item())\n",
    "                epoch_f1 += f1\n",
    "\n",
    "                if optimizer:\n",
    "                    loss.backward()\n",
    "                    nn.utils.clip_grad_norm_(model.parameters(), max_norm=2.0)\n",
    "                    optimizer.step()\n",
    "                    optimizer.zero_grad()\n",
    "\n",
    "                progress_bar.update()\n",
    "                progress_bar.set_description('{:>5s} Average Loss = {:.5f}, F1-score = {:.3%}'.format(\n",
    "                    name, loss , f1))\n",
    "\n",
    "            progress_bar.set_description('{:>5s} Average Loss = {:.5f}, F1-score = {:.3%}'.format(\n",
    "                name, np.mean(epoch_loss), epoch_f1 / batches_count))\n",
    "\n",
    "    return epoch_loss\n",
    "\n",
    "\n",
    "def fit(model, criterion, optimizer, train_data, epochs_count=1,\n",
    "        val_data=None, bert=False):\n",
    "    \"\"\"\n",
    "    Управляющая функция обучения\n",
    "    \"\"\"\n",
    "    train_all_loss = []\n",
    "    val_all_loss = []\n",
    "    for epoch in range(epochs_count):\n",
    "        name_prefix = '[{} / {}] '.format(epoch + 1, epochs_count)\n",
    "        train_loss = do_epoch(model, criterion, train_data, optimizer, name_prefix + 'Train:', bert)\n",
    "        train_all_loss += train_loss\n",
    "\n",
    "        \n",
    "        if not val_data is None:\n",
    "            val_loss = do_epoch(model, criterion, val_data, None, name_prefix + '  Val:', bert)\n",
    "            val_all_loss += val_loss\n",
    "\n",
    "    draw_graph(train_all_loss, val_all_loss)"
   ]
  },
  {
   "cell_type": "code",
   "execution_count": null,
   "metadata": {
    "colab": {},
    "colab_type": "code",
    "hidden": true,
    "id": "XQzOy1bSnkyv"
   },
   "outputs": [],
   "source": [
    "class CreateDataset(Dataset):\n",
    "    \"\"\"\n",
    "    Класс сборщика датасета для BERT\n",
    "    \"\"\"\n",
    "    def __init__(self, sentence, targets, tokenizer, max_len):\n",
    "        self.sentence = sentence\n",
    "        self.targets = targets\n",
    "        self.tokenizer = tokenizer\n",
    "        self.max_len = max_len\n",
    "  \n",
    "    def __len__(self):\n",
    "        return len(self.sentence)\n",
    "  \n",
    "    def __getitem__(self, item):\n",
    "        sentence = str(self.sentence[item])\n",
    "        target = self.targets[item]\n",
    "\n",
    "        encoding = self.tokenizer.encode_plus(\n",
    "          sentence,\n",
    "          add_special_tokens=True,\n",
    "          max_length=self.max_len,\n",
    "          return_token_type_ids=False,\n",
    "          pad_to_max_length=True,\n",
    "          return_attention_mask=True,\n",
    "          return_tensors='pt',\n",
    "        )\n",
    "\n",
    "    return {\n",
    "      'sentence_text': sentence,\n",
    "      'input_ids': encoding['input_ids'].flatten(),\n",
    "      'attention_mask': encoding['attention_mask'].flatten(),\n",
    "      'targets': torch.tensor(target, dtype=torch.long)\n",
    "    }\n",
    "\n",
    "def create_data_loader(dt, tokenizer, max_len, batch_size):\n",
    "    ds = CreateDataset(\n",
    "        sentence=dt['sentence'],\n",
    "        targets=dt['label'],\n",
    "        tokenizer=tokenizer,\n",
    "        max_len=max_len\n",
    "      )\n",
    "\n",
    "    return DataLoader(\n",
    "    ds,\n",
    "    batch_size=batch_size)\n",
    "\n",
    "def predict_bert(bert_model, text):\n",
    "    \"\"\"\n",
    "    Функция предсказания для одного предложения для bert\n",
    "    \"\"\"\n",
    "    text = preprocess_text(text)\n",
    "    encoded_review = tokenizer.encode_plus(\n",
    "        text,\n",
    "        max_length=MAX_LEN,\n",
    "        add_special_tokens=True,\n",
    "        return_token_type_ids=False,\n",
    "        pad_to_max_length=True,\n",
    "        return_attention_mask=True, return_tensors='pt',\n",
    "    )\n",
    "\n",
    "    input_ids = encoded_review['input_ids'].to(device)\n",
    "    attention_mask = encoded_review['attention_mask'].to(device)\n",
    "\n",
    "    inputs = (input_ids, attention_mask)\n",
    "    output = bert_model(inputs)\n",
    "    prediction = torch.round(torch.sigmoid(output))\n",
    "    return prediction.cpu().detach().numpy()[0]"
   ]
  },
  {
   "cell_type": "markdown",
   "metadata": {
    "colab_type": "text",
    "heading_collapsed": true,
    "id": "R5EjFFwkMju0"
   },
   "source": [
    "# Техническая часть"
   ]
  },
  {
   "cell_type": "code",
   "execution_count": null,
   "metadata": {
    "colab": {
     "base_uri": "https://localhost:8080/",
     "height": 352
    },
    "colab_type": "code",
    "hidden": true,
    "id": "0F1HmSYwYNKY",
    "outputId": "3920eceb-85d9-43f3-87ef-35cdf885430e"
   },
   "outputs": [
    {
     "name": "stdout",
     "output_type": "stream",
     "text": [
      "Requirement already satisfied: transformers in /usr/local/lib/python3.6/dist-packages (3.0.2)\n",
      "Requirement already satisfied: regex!=2019.12.17 in /usr/local/lib/python3.6/dist-packages (from transformers) (2019.12.20)\n",
      "Requirement already satisfied: packaging in /usr/local/lib/python3.6/dist-packages (from transformers) (20.4)\n",
      "Requirement already satisfied: requests in /usr/local/lib/python3.6/dist-packages (from transformers) (2.23.0)\n",
      "Requirement already satisfied: sentencepiece!=0.1.92 in /usr/local/lib/python3.6/dist-packages (from transformers) (0.1.91)\n",
      "Requirement already satisfied: tokenizers==0.8.1.rc1 in /usr/local/lib/python3.6/dist-packages (from transformers) (0.8.1rc1)\n",
      "Requirement already satisfied: sacremoses in /usr/local/lib/python3.6/dist-packages (from transformers) (0.0.43)\n",
      "Requirement already satisfied: tqdm>=4.27 in /usr/local/lib/python3.6/dist-packages (from transformers) (4.41.1)\n",
      "Requirement already satisfied: filelock in /usr/local/lib/python3.6/dist-packages (from transformers) (3.0.12)\n",
      "Requirement already satisfied: numpy in /usr/local/lib/python3.6/dist-packages (from transformers) (1.18.5)\n",
      "Requirement already satisfied: dataclasses; python_version < \"3.7\" in /usr/local/lib/python3.6/dist-packages (from transformers) (0.7)\n",
      "Requirement already satisfied: six in /usr/local/lib/python3.6/dist-packages (from packaging->transformers) (1.12.0)\n",
      "Requirement already satisfied: pyparsing>=2.0.2 in /usr/local/lib/python3.6/dist-packages (from packaging->transformers) (2.4.7)\n",
      "Requirement already satisfied: urllib3!=1.25.0,!=1.25.1,<1.26,>=1.21.1 in /usr/local/lib/python3.6/dist-packages (from requests->transformers) (1.24.3)\n",
      "Requirement already satisfied: idna<3,>=2.5 in /usr/local/lib/python3.6/dist-packages (from requests->transformers) (2.10)\n",
      "Requirement already satisfied: certifi>=2017.4.17 in /usr/local/lib/python3.6/dist-packages (from requests->transformers) (2020.6.20)\n",
      "Requirement already satisfied: chardet<4,>=3.0.2 in /usr/local/lib/python3.6/dist-packages (from requests->transformers) (3.0.4)\n",
      "Requirement already satisfied: joblib in /usr/local/lib/python3.6/dist-packages (from sacremoses->transformers) (0.16.0)\n",
      "Requirement already satisfied: click in /usr/local/lib/python3.6/dist-packages (from sacremoses->transformers) (7.1.2)\n"
     ]
    }
   ],
   "source": [
    "!pip install transformers"
   ]
  },
  {
   "cell_type": "code",
   "execution_count": null,
   "metadata": {
    "colab": {
     "base_uri": "https://localhost:8080/",
     "height": 54
    },
    "colab_type": "code",
    "hidden": true,
    "id": "PclhQvVLMh-w",
    "outputId": "4f5ff7fa-2a9c-457a-fb35-c5796d133d63"
   },
   "outputs": [
    {
     "data": {
      "text/plain": [
       "<torch._C.Generator at 0x7f68908ad770>"
      ]
     },
     "execution_count": 44,
     "metadata": {
      "tags": []
     },
     "output_type": "execute_result"
    }
   ],
   "source": [
    "import warnings\n",
    "warnings.filterwarnings('ignore')\n",
    "\n",
    "import math\n",
    "import re\n",
    "import random\n",
    "\n",
    "import pandas as pd\n",
    "import numpy as np\n",
    "import collections\n",
    "from pprint import pprint\n",
    "import seaborn as sns\n",
    "import matplotlib.pyplot as plt\n",
    "\n",
    "from tqdm import tqdm\n",
    "\n",
    "from sklearn.feature_extraction.text import CountVectorizer\n",
    "from sklearn.linear_model import LogisticRegression\n",
    "from sklearn.model_selection import train_test_split\n",
    "from sklearn.pipeline import Pipeline\n",
    "from sklearn.metrics import f1_score, confusion_matrix\n",
    "from sklearn.externals import joblib\n",
    "\n",
    "\n",
    "import torch\n",
    "import torch.nn as nn\n",
    "import torch.nn.functional as F\n",
    "import torch.optim as optim\n",
    "from torch.utils.data import DataLoader, Dataset, RandomSampler, TensorDataset\n",
    "\n",
    "import torchtext\n",
    "from torchtext import datasets\n",
    "from torchtext.data import Field, Example, Dataset, BucketIterator, LabelField\n",
    "\n",
    "from transformers import DistilBertModel, DistilBertTokenizer\n",
    "\n",
    "import glob, os\n",
    "\n",
    "import logging\n",
    "logging.basicConfig(level=logging.ERROR)\n",
    "\n",
    "device = \"cuda\" if torch.cuda.is_available() else \"cpu\"\n",
    "random.seed(42)\n",
    "np.random.seed(42)\n",
    "torch.manual_seed(42)"
   ]
  },
  {
   "cell_type": "code",
   "execution_count": 3,
   "metadata": {
    "hidden": true
   },
   "outputs": [
    {
     "name": "stderr",
     "output_type": "stream",
     "text": [
      "/Users/danildmitriev/anaconda3/lib/python3.7/site-packages/sklearn/externals/joblib/__init__.py:15: DeprecationWarning: sklearn.externals.joblib is deprecated in 0.21 and will be removed in 0.23. Please import this functionality directly from joblib, which can be installed with: pip install joblib. If this warning is raised when loading pickled models, you may need to re-serialize those models with scikit-learn 0.21+.\n",
      "  warnings.warn(msg, category=DeprecationWarning)\n"
     ]
    }
   ],
   "source": [
    "import warnings\n",
    "warnings.filterwarnings('ignore')\n",
    "\n",
    "import math\n",
    "import re\n",
    "import random\n",
    "\n",
    "import pandas as pd\n",
    "import numpy as np\n",
    "import collections\n",
    "from pprint import pprint\n",
    "import seaborn as sns\n",
    "import matplotlib.pyplot as plt\n",
    "\n",
    "from tqdm import tqdm\n",
    "\n",
    "from sklearn.feature_extraction.text import CountVectorizer\n",
    "from sklearn.linear_model import LogisticRegression\n",
    "from sklearn.model_selection import train_test_split\n",
    "from sklearn.pipeline import Pipeline\n",
    "from sklearn.metrics import f1_score, confusion_matrix\n",
    "from sklearn.externals import joblib"
   ]
  },
  {
   "cell_type": "markdown",
   "metadata": {
    "colab_type": "text",
    "id": "IlIWdmNhEL6-"
   },
   "source": [
    "# EDA"
   ]
  },
  {
   "cell_type": "code",
   "execution_count": 119,
   "metadata": {
    "colab": {
     "base_uri": "https://localhost:8080/",
     "height": 221
    },
    "colab_type": "code",
    "id": "eO1WY2uVEQ36",
    "outputId": "6e64280a-be0a-4b4d-870d-59ba22fa4044"
   },
   "outputs": [
    {
     "data": {
      "text/html": [
       "<div>\n",
       "<style scoped>\n",
       "    .dataframe tbody tr th:only-of-type {\n",
       "        vertical-align: middle;\n",
       "    }\n",
       "\n",
       "    .dataframe tbody tr th {\n",
       "        vertical-align: top;\n",
       "    }\n",
       "\n",
       "    .dataframe thead th {\n",
       "        text-align: right;\n",
       "    }\n",
       "</style>\n",
       "<table border=\"1\" class=\"dataframe\">\n",
       "  <thead>\n",
       "    <tr style=\"text-align: right;\">\n",
       "      <th></th>\n",
       "      <th>text</th>\n",
       "      <th>label</th>\n",
       "    </tr>\n",
       "  </thead>\n",
       "  <tbody>\n",
       "    <tr>\n",
       "      <th>0</th>\n",
       "      <td>Вице-премьер по социальным вопросам Татьяна Го...</td>\n",
       "      <td>1</td>\n",
       "    </tr>\n",
       "    <tr>\n",
       "      <th>1</th>\n",
       "      <td>Капитан «Вашингтона» Александр Овечкин сделал...</td>\n",
       "      <td>1</td>\n",
       "    </tr>\n",
       "    <tr>\n",
       "      <th>2</th>\n",
       "      <td>Нападающий клуба «Эдмонтон Ойлерс» Коннор Макд...</td>\n",
       "      <td>1</td>\n",
       "    </tr>\n",
       "    <tr>\n",
       "      <th>3</th>\n",
       "      <td>В Крыму самосвал сорвался с обрыва и упал на т...</td>\n",
       "      <td>1</td>\n",
       "    </tr>\n",
       "    <tr>\n",
       "      <th>4</th>\n",
       "      <td>Протесты движения «желтых жилетов» в Париже сн...</td>\n",
       "      <td>1</td>\n",
       "    </tr>\n",
       "  </tbody>\n",
       "</table>\n",
       "</div>"
      ],
      "text/plain": [
       "                                                text  label\n",
       "0  Вице-премьер по социальным вопросам Татьяна Го...      1\n",
       "1   Капитан «Вашингтона» Александр Овечкин сделал...      1\n",
       "2  Нападающий клуба «Эдмонтон Ойлерс» Коннор Макд...      1\n",
       "3  В Крыму самосвал сорвался с обрыва и упал на т...      1\n",
       "4  Протесты движения «желтых жилетов» в Париже сн...      1"
      ]
     },
     "execution_count": 119,
     "metadata": {},
     "output_type": "execute_result"
    }
   ],
   "source": [
    "dt = pd.read_csv('train_data/dt.csv')\n",
    "dt = dt.drop('Unnamed: 0', axis=1)\n",
    "dt.head()"
   ]
  },
  {
   "cell_type": "markdown",
   "metadata": {
    "colab_type": "text",
    "id": "CLsk2riiQ5Tt"
   },
   "source": [
    "Данные представляют собой предложение и его label. Если label = 1, то это русское предложение,а если Llabel = 2, значит - не русское."
   ]
  },
  {
   "cell_type": "markdown",
   "metadata": {
    "colab_type": "text",
    "id": "rwM00wrhSc-t"
   },
   "source": [
    "Я осознано пропускаю этап лематизации, так как у нас могут быть разные языки и лематизацию под каждый язык еще не разработана или ее очень долго искать."
   ]
  },
  {
   "cell_type": "markdown",
   "metadata": {
    "colab_type": "text",
    "id": "tHSC2mypRMtI"
   },
   "source": [
    "Взглянем на распределение длин предложений и удалим те строки, в которых меньше 5 предложений. Это необходимо будет для CNN."
   ]
  },
  {
   "cell_type": "code",
   "execution_count": 120,
   "metadata": {
    "colab": {
     "base_uri": "https://localhost:8080/",
     "height": 534
    },
    "colab_type": "code",
    "id": "3svsQZxbEQ0n",
    "outputId": "cb221c22-3848-4e84-d6c6-a5765764d227"
   },
   "outputs": [
    {
     "data": {
      "text/plain": [
       "<matplotlib.axes._subplots.AxesSubplot at 0x7fdfa4085828>"
      ]
     },
     "execution_count": 120,
     "metadata": {},
     "output_type": "execute_result"
    },
    {
     "data": {
      "image/png": "[encoded data removed]",
      "text/plain": [
       "<Figure size 1296x576 with 1 Axes>"
      ]
     },
     "metadata": {
      "needs_background": "light"
     },
     "output_type": "display_data"
    }
   ],
   "source": [
    "dt['text'] = dt['text'].apply(lambda x: preprocess_text(x))\n",
    "\n",
    "dt['len'] = dt['text'].apply(lambda x: len(x.split(' ')))\n",
    "dt = dt.where(dt['len'] > 5)\n",
    "dt = dt.dropna()\n",
    "\n",
    "plt.figure(figsize = (18,8))\n",
    "sns.distplot(dt['len'])"
   ]
  },
  {
   "cell_type": "code",
   "execution_count": 121,
   "metadata": {
    "colab": {
     "base_uri": "https://localhost:8080/",
     "height": 54
    },
    "colab_type": "code",
    "id": "LmsGWEztHa02",
    "outputId": "44da4a4f-7041-4aea-f4d7-b0badc0ea548"
   },
   "outputs": [
    {
     "data": {
      "text/plain": [
       "((81217,), (10829,), (27073,))"
      ]
     },
     "execution_count": 121,
     "metadata": {},
     "output_type": "execute_result"
    }
   ],
   "source": [
    "X = dt['text'].values\n",
    "Y = dt['label'].values\n",
    "\n",
    "x_train, x_test, y_train, y_test = train_test_split(\n",
    "    X, Y, stratify=Y, test_size=0.1, random_state=42)\n",
    "\n",
    "x_train, x_val, y_train, y_val = train_test_split(\n",
    "    X, Y, stratify=Y, test_size=0.25, random_state=42)\n",
    "\n",
    "x_train.shape, x_test.shape, x_val.shape"
   ]
  },
  {
   "cell_type": "markdown",
   "metadata": {
    "colab_type": "text",
    "id": "AX6bbIF4GWOk"
   },
   "source": [
    "# Log Reg"
   ]
  },
  {
   "cell_type": "code",
   "execution_count": 26,
   "metadata": {
    "colab": {
     "base_uri": "https://localhost:8080/",
     "height": 104
    },
    "colab_type": "code",
    "id": "NL5D2tTIGhQn",
    "outputId": "4d67a691-fa5f-46be-e2d0-99774b55173a"
   },
   "outputs": [
    {
     "name": "stdout",
     "output_type": "stream",
     "text": [
      "F1-score = 100.00%\n",
      "Confusion Matrix: \n",
      "[[5256    0]\n",
      " [   0 5573]]\n"
     ]
    }
   ],
   "source": [
    "log_reg_model_char = Pipeline([\n",
    "    ('vectorizer', CountVectorizer(analyzer='char', ngram_range=(1, 4))),\n",
    "    ('log_regression', LogisticRegression())\n",
    "])\n",
    "\n",
    "log_reg_model_char.fit(x_train, y_train)\n",
    "preds = log_reg_model_char.predict(x_test)\n",
    "\n",
    "print('F1-score = {:.2%}'.format(f1_score(y_test, preds)))\n",
    "print('Confusion Matrix: ')\n",
    "print(confusion_matrix(y_test, preds))"
   ]
  },
  {
   "cell_type": "code",
   "execution_count": 36,
   "metadata": {},
   "outputs": [
    {
     "name": "stdout",
     "output_type": "stream",
     "text": [
      "Predict model on char: [1.]\n"
     ]
    }
   ],
   "source": [
    "t = '«Позиция НАТО является четкой. Мы делаем все, 12 чтобы наши граждане были в безопасности.'\n",
    "print(f'Predict model on char: {predict_once(log_reg_model_char, t)}')"
   ]
  },
  {
   "cell_type": "code",
   "execution_count": 34,
   "metadata": {},
   "outputs": [
    {
     "data": {
      "text/plain": [
       "array([1.])"
      ]
     },
     "execution_count": 34,
     "metadata": {},
     "output_type": "execute_result"
    }
   ],
   "source": [
    "t = 'Глыбокае навучанне' # белорусский\n",
    "predict_once(log_reg_model_char, t)"
   ]
  },
  {
   "cell_type": "code",
   "execution_count": 37,
   "metadata": {},
   "outputs": [
    {
     "data": {
      "text/plain": [
       "array([1.])"
      ]
     },
     "execution_count": 37,
     "metadata": {},
     "output_type": "execute_result"
    }
   ],
   "source": [
    "t = 'теперь siri можно попросить исполнить битбокс слова boots and cats которые произносит голосовой помощник являются базовыми для тех кто решил научиться этому искусству'\n",
    "predict_once(log_reg_model_char, t)"
   ]
  },
  {
   "cell_type": "markdown",
   "metadata": {},
   "source": [
    "найдем, где наша модель ошибается"
   ]
  },
  {
   "cell_type": "code",
   "execution_count": 38,
   "metadata": {},
   "outputs": [
    {
     "data": {
      "text/plain": [
       "[]"
      ]
     },
     "execution_count": 38,
     "metadata": {},
     "output_type": "execute_result"
    }
   ],
   "source": [
    "find_error(log_reg_model_char, x_test, y_test)"
   ]
  },
  {
   "cell_type": "markdown",
   "metadata": {
    "colab_type": "text",
    "id": "oxf4dtdLclzw"
   },
   "source": [
    "## Уменьшаем обучающих данных"
   ]
  },
  {
   "cell_type": "markdown",
   "metadata": {
    "colab_type": "text",
    "id": "OnOoxXvYZyGr"
   },
   "source": [
    "Я обучал на 81217 примерах для logreg, это очень много, попробую уменьшить кол-во данных и добавить регуляризацию"
   ]
  },
  {
   "cell_type": "code",
   "execution_count": 122,
   "metadata": {
    "colab": {
     "base_uri": "https://localhost:8080/",
     "height": 104
    },
    "colab_type": "code",
    "id": "l2V_kJsiaAFr",
    "outputId": "36e37eb9-acec-47ec-c911-670e5e0650ce"
   },
   "outputs": [
    {
     "name": "stdout",
     "output_type": "stream",
     "text": [
      "F1-score = 100.00%\n",
      "Confusion Matrix: \n",
      "[[5256    0]\n",
      " [   0 5573]]\n"
     ]
    }
   ],
   "source": [
    "log_reg_model = Pipeline([\n",
    "    ('vectorizer', CountVectorizer(analyzer='char', ngram_range=(1, 4))),\n",
    "    ('log_regression', LogisticRegression(C=10))\n",
    "])\n",
    "\n",
    "log_reg_model.fit(x_val, y_val)\n",
    "preds = log_reg_model.predict(x_test)\n",
    "\n",
    "print('F1-score = {:.2%}'.format(f1_score(y_test, preds)))\n",
    "print('Confusion Matrix: ')\n",
    "print(confusion_matrix(y_test, preds))"
   ]
  },
  {
   "cell_type": "markdown",
   "metadata": {
    "colab": {
     "base_uri": "https://localhost:8080/",
     "height": 54
    },
    "colab_type": "code",
    "id": "FtjvITJ2a7M-",
    "outputId": "0983d6b1-a461-406e-c9a8-7122af3dacb8"
   },
   "source": [
    "Попробуем сделать предсказания для разных языков:"
   ]
  },
  {
   "cell_type": "code",
   "execution_count": 123,
   "metadata": {
    "colab": {
     "base_uri": "https://localhost:8080/",
     "height": 54
    },
    "colab_type": "code",
    "id": "LGqnsoHGa8u_",
    "outputId": "7289b03f-afe5-4321-b25f-af0554f78c4b"
   },
   "outputs": [
    {
     "data": {
      "text/plain": [
       "array([0.])"
      ]
     },
     "execution_count": 123,
     "metadata": {},
     "output_type": "execute_result"
    }
   ],
   "source": [
    "t = '深い学習' # японский\n",
    "predict_once(log_reg_model, t)"
   ]
  },
  {
   "cell_type": "code",
   "execution_count": 124,
   "metadata": {
    "colab": {
     "base_uri": "https://localhost:8080/",
     "height": 54
    },
    "colab_type": "code",
    "id": "9NKxKIlCbJxS",
    "outputId": "c10960d2-1eab-4a68-9393-2caa170b49e2"
   },
   "outputs": [
    {
     "data": {
      "text/plain": [
       "array([1.])"
      ]
     },
     "execution_count": 124,
     "metadata": {},
     "output_type": "execute_result"
    }
   ],
   "source": [
    "t = 'Глыбокае навучанне' # белорусский\n",
    "predict_once(log_reg_model, t)"
   ]
  },
  {
   "cell_type": "code",
   "execution_count": 125,
   "metadata": {
    "colab": {
     "base_uri": "https://localhost:8080/",
     "height": 54
    },
    "colab_type": "code",
    "id": "UOtTObopbYCs",
    "outputId": "6e958ee8-714e-45ed-bf5c-d5372d7ef31f"
   },
   "outputs": [
    {
     "data": {
      "text/plain": [
       "array([1.])"
      ]
     },
     "execution_count": 125,
     "metadata": {},
     "output_type": "execute_result"
    }
   ],
   "source": [
    "t = 'Глибоке навчання' # украинский\n",
    "predict_once(log_reg_model, t)"
   ]
  },
  {
   "cell_type": "code",
   "execution_count": 126,
   "metadata": {
    "colab": {
     "base_uri": "https://localhost:8080/",
     "height": 54
    },
    "colab_type": "code",
    "id": "53ulBwkVjUAp",
    "outputId": "2e553e4e-cef5-4da4-c5fb-16380b5c918b"
   },
   "outputs": [
    {
     "data": {
      "text/plain": [
       "array([0.])"
      ]
     },
     "execution_count": 126,
     "metadata": {},
     "output_type": "execute_result"
    }
   ],
   "source": [
    "t = 'I do deep learning, but often everything can be solved using machine learning.' # Английский\n",
    "predict_once(log_reg_model, t)"
   ]
  },
  {
   "cell_type": "code",
   "execution_count": 127,
   "metadata": {
    "colab": {
     "base_uri": "https://localhost:8080/",
     "height": 54
    },
    "colab_type": "code",
    "id": "-zgBPMXujcme",
    "outputId": "bf79b314-e53e-42e4-9dfe-0ceacdc6b42c"
   },
   "outputs": [
    {
     "data": {
      "text/plain": [
       "array([0.])"
      ]
     },
     "execution_count": 127,
     "metadata": {},
     "output_type": "execute_result"
    }
   ],
   "source": [
    "t = 'אני לומד עמוק, אבל לעתים קרובות הכל ניתן לפתור באמצעות למידה במכונה.' # Иврит\n",
    "predict_once(log_reg_model, t)"
   ]
  },
  {
   "cell_type": "code",
   "execution_count": 128,
   "metadata": {},
   "outputs": [
    {
     "data": {
      "text/plain": [
       "array([1.])"
      ]
     },
     "execution_count": 128,
     "metadata": {},
     "output_type": "execute_result"
    }
   ],
   "source": [
    "t = 'дълбокото обучение навлиза в живота ни на големи стъпки, не може да не се радва' # Болгарский\n",
    "predict_once(log_reg_model, t)"
   ]
  },
  {
   "cell_type": "markdown",
   "metadata": {},
   "source": [
    "## Организуем поиск по папка"
   ]
  },
  {
   "cell_type": "code",
   "execution_count": 181,
   "metadata": {},
   "outputs": [],
   "source": [
    "import glob, os\n",
    "result = {}\n",
    "os.chdir(\"/Users/danildmitriev/Desktop/DataScience/abbyy/test/data\")\n",
    "for file in glob.glob(\"*.txt\"):\n",
    "    with open(file) as f:\n",
    "        lines = f.readlines()\n",
    "        predict = [predict_once(model, line.strip()) for line in lines]\n",
    "        predict = 1 if np.mean(predict) > 0 else 0\n",
    "        result.update({file:predict})"
   ]
  },
  {
   "cell_type": "code",
   "execution_count": 176,
   "metadata": {},
   "outputs": [
    {
     "data": {
      "text/html": [
       "<div>\n",
       "<style scoped>\n",
       "    .dataframe tbody tr th:only-of-type {\n",
       "        vertical-align: middle;\n",
       "    }\n",
       "\n",
       "    .dataframe tbody tr th {\n",
       "        vertical-align: top;\n",
       "    }\n",
       "\n",
       "    .dataframe thead th {\n",
       "        text-align: right;\n",
       "    }\n",
       "</style>\n",
       "<table border=\"1\" class=\"dataframe\">\n",
       "  <thead>\n",
       "    <tr style=\"text-align: right;\">\n",
       "      <th></th>\n",
       "      <th>filename</th>\n",
       "      <th>answer</th>\n",
       "    </tr>\n",
       "  </thead>\n",
       "  <tbody>\n",
       "    <tr>\n",
       "      <th>0</th>\n",
       "      <td>1735.txt</td>\n",
       "      <td>0</td>\n",
       "    </tr>\n",
       "    <tr>\n",
       "      <th>1</th>\n",
       "      <td>2228.txt</td>\n",
       "      <td>0</td>\n",
       "    </tr>\n",
       "    <tr>\n",
       "      <th>2</th>\n",
       "      <td>1721.txt</td>\n",
       "      <td>1</td>\n",
       "    </tr>\n",
       "    <tr>\n",
       "      <th>3</th>\n",
       "      <td>1047.txt</td>\n",
       "      <td>0</td>\n",
       "    </tr>\n",
       "    <tr>\n",
       "      <th>4</th>\n",
       "      <td>2566.txt</td>\n",
       "      <td>1</td>\n",
       "    </tr>\n",
       "  </tbody>\n",
       "</table>\n",
       "</div>"
      ],
      "text/plain": [
       "   filename  answer\n",
       "0  1735.txt       0\n",
       "1  2228.txt       0\n",
       "2  1721.txt       1\n",
       "3  1047.txt       0\n",
       "4  2566.txt       1"
      ]
     },
     "execution_count": 176,
     "metadata": {},
     "output_type": "execute_result"
    }
   ],
   "source": [
    "file_name = [key for key, _ in result.items()]\n",
    "file_result = [value for _, value in result.items()]\n",
    "\n",
    "dataframe = pd.DataFrame({'filename':file_name,\n",
    "                         'answer':file_result})\n",
    "dataframe.head()"
   ]
  },
  {
   "cell_type": "code",
   "execution_count": null,
   "metadata": {},
   "outputs": [],
   "source": [
    "dataframe.to_csv('prediction.csv')"
   ]
  },
  {
   "cell_type": "markdown",
   "metadata": {},
   "source": [
    "Функция, которая требовалась в задание"
   ]
  },
  {
   "cell_type": "code",
   "execution_count": 179,
   "metadata": {},
   "outputs": [],
   "source": [
    "def predict(path, model):\n",
    "    result = {}\n",
    "    os.chdir(path)\n",
    "    for file in glob.glob(\"*.txt\"):\n",
    "        with open(file) as f:\n",
    "            lines = f.readlines()\n",
    "            predict = [predict_once(model, line.strip()) for line in lines]\n",
    "            predict = 1 if np.mean(predict) > 0 else 0\n",
    "            result.update({file:predict})\n",
    "        \n",
    "    file_name = [key for key, _ in result.items()]\n",
    "    file_result = [value for _, value in result.items()]\n",
    "\n",
    "    dataframe = pd.DataFrame({'filename':file_name,\n",
    "                         'answer':file_result})\n",
    "    \n",
    "    dataframe.to_csv('prediction.csv')\n",
    "    \n",
    "\n",
    "predict(path = \"/Users/danildmitriev/Desktop/DataScience/abbyy/test/data\")  \n",
    "    "
   ]
  },
  {
   "cell_type": "markdown",
   "metadata": {
    "colab_type": "text",
    "id": "HyXguKCqSPrp"
   },
   "source": [
    "# Подготовка данных к Deep Learning"
   ]
  },
  {
   "cell_type": "markdown",
   "metadata": {
    "colab_type": "text",
    "id": "PGn7vNrdQUZJ"
   },
   "source": [
    "Я понимаю, что кто тут не нужен, так это глубокое обучение, но интересно попробовать. "
   ]
  },
  {
   "cell_type": "code",
   "execution_count": null,
   "metadata": {
    "colab": {},
    "colab_type": "code",
    "id": "sEdLD8XoSgNy"
   },
   "outputs": [],
   "source": [
    "train_df = [(x_train[i], y_train[i]) for i in range(len(x_train))]\n",
    "valid_df = [(x_val[i], y_val[i]) for i in range(len(x_val))]\n",
    "test_df = [(x_test[i], y_test[i]) for i in range(len(x_test))]"
   ]
  },
  {
   "cell_type": "code",
   "execution_count": null,
   "metadata": {
    "colab": {},
    "colab_type": "code",
    "id": "7vXzcFtjSh_P"
   },
   "outputs": [],
   "source": [
    "TEXT = Field(batch_first=True)\n",
    "LABEL = LabelField(dtype = torch.float)\n",
    "\n",
    "fields = [('text',TEXT), ('label',LABEL)]\n",
    "\n",
    "train_dataset = Dataset([Example.fromlist(example, fields) for example in train_df], fields)\n",
    "val_dataset = Dataset([Example.fromlist(example, fields) for example in valid_df], fields)\n",
    "test_dataset = Dataset([Example.fromlist(example, fields) for example in test_df], fields)"
   ]
  },
  {
   "cell_type": "code",
   "execution_count": null,
   "metadata": {
    "colab": {
     "base_uri": "https://localhost:8080/",
     "height": 71
    },
    "colab_type": "code",
    "id": "e2euEAQ3Sh6G",
    "outputId": "81c68d9f-b15f-4e04-990d-d53def7be6b4"
   },
   "outputs": [
    {
     "name": "stdout",
     "output_type": "stream",
     "text": [
      "Vocab size = 50002\n",
      "Label count = 2\n"
     ]
    }
   ],
   "source": [
    "MAX_VOCAB_SIZE = 50000\n",
    "\n",
    "TEXT.build_vocab(train_dataset, \n",
    "                 max_size = MAX_VOCAB_SIZE)\n",
    "\n",
    "LABEL.build_vocab(train_dataset)\n",
    "\n",
    "print('Vocab size =', len(TEXT.vocab))\n",
    "print('Label count =', len(LABEL.vocab))"
   ]
  },
  {
   "cell_type": "code",
   "execution_count": null,
   "metadata": {
    "colab": {},
    "colab_type": "code",
    "id": "n3EcWVWhSh2A"
   },
   "outputs": [],
   "source": [
    "BATCH_SIZE = 128\n",
    "\n",
    "train_iterator, valid_iterator, test_iterator = BucketIterator.splits(\n",
    "    (train_dataset, val_dataset, test_dataset), \n",
    "    batch_size = BATCH_SIZE,\n",
    "    sort_key = lambda x: len(x.text),\n",
    "    device = device)"
   ]
  },
  {
   "cell_type": "markdown",
   "metadata": {
    "colab_type": "text",
    "id": "FiKMQsvaXRlf"
   },
   "source": [
    "# Bidirectional - GRU"
   ]
  },
  {
   "cell_type": "code",
   "execution_count": null,
   "metadata": {
    "colab": {},
    "colab_type": "code",
    "id": "vi9HVYynShxK"
   },
   "outputs": [],
   "source": [
    "class GRUBaseline(nn.Module):\n",
    "    def __init__(self, hidden_dim, emb_dim, n_layers=1, dropout=0.1, bidirectional=False):\n",
    "        super().__init__()\n",
    "        self.hidden_dim = hidden_dim\n",
    "\n",
    "        self.embedding = nn.Embedding(len(TEXT.vocab), emb_dim)\n",
    "        self.gru = nn.GRU(emb_dim, hidden_dim, n_layers, bidirectional=bidirectional)\n",
    "        self.linear = nn.Linear((1 + bidirectional) * n_layers * hidden_dim, 1)\n",
    "\n",
    "        self.dropout = nn.Dropout(0.1)\n",
    "        \n",
    "    def forward(self, seq):\n",
    "        seq = seq.permute(1, 0)\n",
    "        emb = self.embedding(seq)\n",
    "        _, hidden = self.gru(emb)\n",
    "        hidden = torch.cat([x_0 for x_0 in hidden], -1)\n",
    "        hidden = self.dropout(hidden)\n",
    "        output = self.linear(hidden).squeeze(-1)\n",
    "        output = torch.sigmoid(output)\n",
    "\n",
    "        return output"
   ]
  },
  {
   "cell_type": "code",
   "execution_count": null,
   "metadata": {
    "colab": {
     "base_uri": "https://localhost:8080/",
     "height": 564
    },
    "colab_type": "code",
    "id": "O3u88QdhShsu",
    "outputId": "ed0438bb-3add-4bb2-a410-ff05aca6c856"
   },
   "outputs": [
    {
     "name": "stderr",
     "output_type": "stream",
     "text": [
      "[1 / 3] Train: Average Loss = 0.51408, F1-score = 72.894%: 100%|██████████| 3183/3183 [03:10<00:00, 16.72it/s]\n",
      "[1 / 3]   Val: Average Loss = 0.50681, F1-score = 84.590%: 100%|██████████| 354/354 [00:05<00:00, 68.71it/s]\n",
      "[2 / 3] Train: Average Loss = 0.50692, F1-score = 94.207%: 100%|██████████| 3183/3183 [03:09<00:00, 16.77it/s]\n",
      "[2 / 3]   Val: Average Loss = 0.50641, F1-score = 96.451%: 100%|██████████| 354/354 [00:05<00:00, 70.34it/s]\n",
      "[3 / 3] Train: Average Loss = 0.50648, F1-score = 98.282%: 100%|██████████| 3183/3183 [03:09<00:00, 16.76it/s]\n",
      "[3 / 3]   Val: Average Loss = 0.50687, F1-score = 99.356%: 100%|██████████| 354/354 [00:05<00:00, 67.79it/s]\n"
     ]
    },
    {
     "data": {
      "image/png": "[encoded data removed]",
      "text/plain": [
       "<Figure size 864x504 with 2 Axes>"
      ]
     },
     "metadata": {
      "needs_background": "light",
      "tags": []
     },
     "output_type": "display_data"
    }
   ],
   "source": [
    "hidden_dim = 128\n",
    "emb_dim = 100\n",
    "model = GRUBaseline(hidden_dim, emb_dim, n_layers=2, bidirectional=True).to(device)\n",
    "EPOCHS = 3\n",
    "\n",
    "optimizer = optim.Adam(model.parameters())\n",
    "criterion = nn.BCEWithLogitsLoss().to(device)\n",
    "fit(model, criterion, optimizer, train_data=train_iterator,\n",
    "    epochs_count=EPOCHS, val_data=valid_iterator)"
   ]
  },
  {
   "cell_type": "markdown",
   "metadata": {
    "colab_type": "text",
    "id": "lbStsCIrkFRt"
   },
   "source": [
    "# CNN"
   ]
  },
  {
   "cell_type": "code",
   "execution_count": null,
   "metadata": {
    "colab": {},
    "colab_type": "code",
    "id": "iz26rkEVShoG"
   },
   "outputs": [],
   "source": [
    "class CNN(nn.Module):\n",
    "    def __init__(self, emb_dim, kernel_sizes, dropout=0.2, n_filters=100):\n",
    "        super(CNN, self).__init__()\n",
    "        self.embedding = nn.Embedding(len(TEXT.vocab), emb_dim)\n",
    "        self.convs = nn.ModuleList([\n",
    "                                    nn.Conv2d(in_channels = 1,\n",
    "                                              out_channels = n_filters,\n",
    "                                              kernel_size = (ks, emb_dim)) \n",
    "                                    for ks in kernel_sizes\n",
    "                                    ])\n",
    "\n",
    "        self.linear = nn.Linear(len(kernel_sizes) * n_filters, 1)\n",
    "\n",
    "        self.dropout = nn.Dropout(dropout)\n",
    "\n",
    "        \n",
    "    def forward(self, x):\n",
    "        emb = self.embedding(x).unsqueeze(1)\n",
    "        conved = [F.relu(conv(emb)).squeeze(3) for conv in self.convs]\n",
    "        pooled = [F.max_pool1d(conv, conv.shape[2]).squeeze(2) for conv in conved]\n",
    "        cat = self.dropout(torch.cat(pooled, dim=1))\n",
    "        output = self.linear(cat).squeeze(-1)\n",
    "        output = torch.sigmoid(output)\n",
    "        \n",
    "        return output\n"
   ]
  },
  {
   "cell_type": "code",
   "execution_count": null,
   "metadata": {
    "colab": {
     "base_uri": "https://localhost:8080/",
     "height": 564
    },
    "colab_type": "code",
    "id": "hQtQ2jJkShjg",
    "outputId": "957824e8-febd-498a-bb37-d919a8f3b46c"
   },
   "outputs": [
    {
     "name": "stderr",
     "output_type": "stream",
     "text": [
      "[1 / 3] Train: Average Loss = 0.51699, F1-score = 67.161%: 100%|██████████| 764/764 [08:55<00:00,  1.43it/s]\n",
      "[1 / 3]   Val: Average Loss = 0.50820, F1-score = 71.628%: 100%|██████████| 85/85 [00:03<00:00, 24.33it/s]\n",
      "[2 / 3] Train: Average Loss = 0.50829, F1-score = 80.594%: 100%|██████████| 764/764 [08:53<00:00,  1.43it/s]\n",
      "[2 / 3]   Val: Average Loss = 0.50806, F1-score = 85.489%: 100%|██████████| 85/85 [00:03<00:00, 24.58it/s]\n",
      "[3 / 3] Train: Average Loss = 0.50819, F1-score = 86.961%: 100%|██████████| 764/764 [08:57<00:00,  1.42it/s]\n",
      "[3 / 3]   Val: Average Loss = 0.50803, F1-score = 87.662%: 100%|██████████| 85/85 [00:03<00:00, 27.98it/s]\n"
     ]
    },
    {
     "data": {
      "image/png": "[encoded data removed]",
      "text/plain": [
       "<Figure size 864x504 with 2 Axes>"
      ]
     },
     "metadata": {
      "needs_background": "light",
      "tags": []
     },
     "output_type": "display_data"
    }
   ],
   "source": [
    "emb_dim = 100\n",
    "kernel_sizes = [2, 3, 4, 5]\n",
    "\n",
    "model = CNN(emb_dim, kernel_sizes).to(device)\n",
    "EPOCHS = 3\n",
    "\n",
    "optimizer = optim.Adam(model.parameters(), lr=0.001)\n",
    "criterion = nn.BCEWithLogitsLoss().to(device)\n",
    "fit(model, criterion, optimizer, train_data=train_iterator,\n",
    "    epochs_count=EPOCHS, val_data=valid_iterator)"
   ]
  },
  {
   "cell_type": "markdown",
   "metadata": {
    "colab_type": "text",
    "id": "xd57PDnS1UPs"
   },
   "source": [
    "# BERT-BiGRU"
   ]
  },
  {
   "cell_type": "code",
   "execution_count": null,
   "metadata": {
    "colab": {},
    "colab_type": "code",
    "id": "BpAnpN9N29l6"
   },
   "outputs": [],
   "source": [
    "tokenizer = DistilBertTokenizer.from_pretrained('distilbert-base-multilingual-cased')"
   ]
  },
  {
   "cell_type": "code",
   "execution_count": null,
   "metadata": {
    "colab": {},
    "colab_type": "code",
    "id": "xPWJQCBl29gT"
   },
   "outputs": [],
   "source": [
    "train_data = {'sentence':[i[0] for i in train_df],\n",
    "              'label':[i[1] for i in train_df]}\n",
    "\n",
    "val_data = {'sentence':[i[0] for i in valid_df],\n",
    "              'label':[i[1] for i in valid_df]}\n",
    "\n",
    "test_data = {'sentence':[i[0] for i in test_df],\n",
    "              'label':[i[1] for i in test_df]}"
   ]
  },
  {
   "cell_type": "code",
   "execution_count": null,
   "metadata": {
    "colab": {},
    "colab_type": "code",
    "id": "xgM1O9PW29Sw"
   },
   "outputs": [],
   "source": [
    "BATCH_SIZE = 8\n",
    "MAX_LEN = 150\n",
    "\n",
    "train_data_loader = create_data_loader(train_data, tokenizer, MAX_LEN, BATCH_SIZE)\n",
    "val_data_loader = create_data_loader(val_data, tokenizer, MAX_LEN, BATCH_SIZE)\n",
    "test_data_loader = create_data_loader(test_data, tokenizer, MAX_LEN, BATCH_SIZE)"
   ]
  },
  {
   "cell_type": "code",
   "execution_count": null,
   "metadata": {
    "colab": {},
    "colab_type": "code",
    "id": "IRps51IE29L7"
   },
   "outputs": [],
   "source": [
    "class BERT_biGRU(nn.Module):\n",
    "    def __init__(self, hidden_dim=256, bidirectional=True, num_layers=1):\n",
    "        super().__init__()\n",
    "        self.bert = DistilBertModel.from_pretrained('distilbert-base-multilingual-cased')\n",
    "\n",
    "        self.rnn = nn.GRU(768, hidden_dim, bidirectional=bidirectional,\n",
    "                      num_layers=num_layers, batch_first=True,\n",
    "                      dropout = 0 if num_layers < 2 else 0.1)\n",
    "    \n",
    "        self.drop = nn.Dropout(p=0.1)\n",
    "        self.linear = nn.Linear(hidden_dim * 2 if bidirectional else hidden_dim, 1)\n",
    "  \n",
    "    def forward(self, inputs):\n",
    "        input_ids = inputs[0]\n",
    "        attention_mask = inputs[1]\n",
    "\n",
    "        bert_output = self.bert(\n",
    "        input_ids=input_ids,\n",
    "        attention_mask=attention_mask\n",
    "        )[0]\n",
    "\n",
    "        output = self.drop(bert_output)\n",
    "\n",
    "        _, hidden = self.rnn(output)\n",
    "\n",
    "        output = torch.cat((hidden[-2,:,:], hidden[-1,:,:]), dim = 1)\n",
    "        output = self.linear(output).squeeze(1)\n",
    "\n",
    "        return output"
   ]
  },
  {
   "cell_type": "code",
   "execution_count": null,
   "metadata": {
    "colab": {
     "base_uri": "https://localhost:8080/",
     "height": 54
    },
    "colab_type": "code",
    "id": "GOiu77j228-Z",
    "outputId": "e6e738a1-65e3-41fc-e494-e0e85bb0b9dc"
   },
   "outputs": [
    {
     "name": "stderr",
     "output_type": "stream",
     "text": [
      "      Average Loss = 0.00985, F1-score = 99.055%: 100%|██████████| 1415/1415 [10:11<00:00,  2.31it/s]\n"
     ]
    }
   ],
   "source": [
    "hidden_dim = 128\n",
    "model = BERT_biGRU(hidden_dim)\n",
    "model = model.to(device)\n",
    "\n",
    "EPOCHS = 1\n",
    "\n",
    "optimizer = optim.Adam(model.parameters(), lr=5e-5)\n",
    "criterion = nn.BCEWithLogitsLoss().to(device)\n",
    "a = do_epoch(model, criterion, test_data_loader, optimizer, bert=True)"
   ]
  },
  {
   "cell_type": "code",
   "execution_count": null,
   "metadata": {
    "colab": {
     "base_uri": "https://localhost:8080/",
     "height": 54
    },
    "colab_type": "code",
    "id": "adLkwfIu287B",
    "outputId": "7e24b7a5-96ae-40fd-e707-f4c8317cc120"
   },
   "outputs": [
    {
     "name": "stderr",
     "output_type": "stream",
     "text": [
      "      Average Loss = 0.00347, F1-score = 99.538%: 100%|██████████| 3537/3537 [05:55<00:00,  9.95it/s]\n"
     ]
    }
   ],
   "source": [
    "a = do_epoch(model, criterion, val_data_loader, bert=True)"
   ]
  },
  {
   "cell_type": "code",
   "execution_count": null,
   "metadata": {
    "colab": {
     "base_uri": "https://localhost:8080/",
     "height": 54
    },
    "colab_type": "code",
    "id": "2Hv90URVghkt",
    "outputId": "84a21d7f-0a50-497a-e28c-56b930d9d0a5"
   },
   "outputs": [
    {
     "data": {
      "text/plain": [
       "1.0"
      ]
     },
     "execution_count": 76,
     "metadata": {
      "tags": []
     },
     "output_type": "execute_result"
    }
   ],
   "source": [
    "t = 'Глибоке навчання' # украинский\n",
    "predict_bert(model, t)"
   ]
  },
  {
   "cell_type": "code",
   "execution_count": null,
   "metadata": {
    "colab": {
     "base_uri": "https://localhost:8080/",
     "height": 54
    },
    "colab_type": "code",
    "id": "jRKpp39ThwW-",
    "outputId": "92cae2cf-12f1-43db-c456-932c5165852a"
   },
   "outputs": [
    {
     "data": {
      "text/plain": [
       "0.0"
      ]
     },
     "execution_count": 77,
     "metadata": {
      "tags": []
     },
     "output_type": "execute_result"
    }
   ],
   "source": [
    "t = 'Text classification is the automatic process of predicting one or more categories given a piece of text.' # английский\n",
    "predict_bert(model, t)"
   ]
  },
  {
   "cell_type": "markdown",
   "metadata": {},
   "source": [
    "Ошибка со слованскими языками не прошла"
   ]
  },
  {
   "cell_type": "markdown",
   "metadata": {
    "colab_type": "text",
    "id": "k0wD_0_1BBSh"
   },
   "source": [
    "Что там с LogReg, попробуем обучить на тех же данных, что и BERT:"
   ]
  },
  {
   "cell_type": "code",
   "execution_count": null,
   "metadata": {
    "colab": {
     "base_uri": "https://localhost:8080/",
     "height": 104
    },
    "colab_type": "code",
    "id": "UusiWup4A11m",
    "outputId": "903b30f5-b8d8-4d11-fe43-ce92949b2c0a"
   },
   "outputs": [
    {
     "name": "stdout",
     "output_type": "stream",
     "text": [
      "F1-score = 99.87%\n",
      "Confusion Matrix: \n",
      "[[14002    15]\n",
      " [   23 14252]]\n"
     ]
    }
   ],
   "source": [
    "log_reg_model = Pipeline([\n",
    "    ('vectorizer', CountVectorizer(analyzer='char', ngram_range=(1, 3))),\n",
    "    ('log_regression', LogisticRegression())\n",
    "])\n",
    "\n",
    "log_reg_model.fit(x_test, y_test)\n",
    "preds = log_reg_model.predict(x_val)\n",
    "\n",
    "print('F1-score = {:.2%}'.format(f1_score(y_val, preds)))\n",
    "print('Confusion Matrix: ')\n",
    "print(confusion_matrix(y_val, preds))"
   ]
  },
  {
   "cell_type": "markdown",
   "metadata": {
    "colab_type": "text",
    "id": "DjZ_ANkKBi82"
   },
   "source": [
    "Эх, думал, что bert успешно сможет в FewShot learning, он смог, но logreg тоже красава"
   ]
  },
  {
   "cell_type": "code",
   "execution_count": null,
   "metadata": {
    "colab": {},
    "colab_type": "code",
    "id": "2EaWTLNPBPFo"
   },
   "outputs": [],
   "source": []
  }
 ],
 "metadata": {
  "accelerator": "GPU",
  "colab": {
   "collapsed_sections": [],
   "name": "solution.ipynb",
   "provenance": []
  },
  "kernelspec": {
   "display_name": "Python 3",
   "language": "python",
   "name": "python3"
  },
  "language_info": {
   "codemirror_mode": {
    "name": "ipython",
    "version": 3
   },
   "file_extension": ".py",
   "mimetype": "text/x-python",
   "name": "python",
   "nbconvert_exporter": "python",
   "pygments_lexer": "ipython3",
   "version": "3.7.3"
  },
  "latex_envs": {
   "LaTeX_envs_menu_present": true,
   "autoclose": false,
   "autocomplete": true,
   "bibliofile": "biblio.bib",
   "cite_by": "apalike",
   "current_citInitial": 1,
   "eqLabelWithNumbers": true,
   "eqNumInitial": 1,
   "hotkeys": {
    "equation": "Ctrl-E",
    "itemize": "Ctrl-I"
   },
   "labels_anchors": false,
   "latex_user_defs": false,
   "report_style_numbering": false,
   "user_envs_cfg": false
  },
  "toc": {
   "base_numbering": 1,
   "nav_menu": {},
   "number_sections": true,
   "sideBar": true,
   "skip_h1_title": false,
   "title_cell": "Table of Contents",
   "title_sidebar": "Contents",
   "toc_cell": false,
   "toc_position": {},
   "toc_section_display": true,
   "toc_window_display": false
  },
  "varInspector": {
   "cols": {
    "lenName": 16,
    "lenType": 16,
    "lenVar": 40
   },
   "kernels_config": {
    "python": {
     "delete_cmd_postfix": "",
     "delete_cmd_prefix": "del ",
     "library": "var_list.py",
     "varRefreshCmd": "print(var_dic_list())"
    },
    "r": {
     "delete_cmd_postfix": ") ",
     "delete_cmd_prefix": "rm(",
     "library": "var_list.r",
     "varRefreshCmd": "cat(var_dic_list()) "
    }
   },
   "types_to_exclude": [
    "module",
    "function",
    "builtin_function_or_method",
    "instance",
    "_Feature"
   ],
   "window_display": false
  }
 },
 "nbformat": 4,
 "nbformat_minor": 1
}
